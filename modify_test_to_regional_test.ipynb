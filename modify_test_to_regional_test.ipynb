{
 "cells": [
  {
   "cell_type": "code",
   "execution_count": 1,
   "metadata": {},
   "outputs": [],
   "source": [
    "import pandas as pd\n",
    "import sqlite3\n",
    "import numpy as np\n",
    "import os\n",
    "import shutil"
   ]
  },
  {
   "cell_type": "code",
   "execution_count": 2,
   "metadata": {},
   "outputs": [],
   "source": [
    "#read specific table and return dataframe\n",
    "def read_db_table(table_n, connection):\n",
    "    df = pd.read_sql_query(\"SELECT * FROM \" + table_n, connection)\n",
    "    return df"
   ]
  },
  {
   "cell_type": "code",
   "execution_count": 3,
   "metadata": {},
   "outputs": [],
   "source": [
    "#run query\n",
    "def run_query(query, outputdB):\n",
    "    conn = sqlite3.connect(outputdB)\n",
    "    c = conn.cursor()\n",
    "    c.execute(query)\n",
    "    conn.commit()\n",
    "    conn.close()"
   ]
  },
  {
   "cell_type": "code",
   "execution_count": 4,
   "metadata": {},
   "outputs": [],
   "source": [
    "def write_sql(df_table, sqlite_table, outputdB):\n",
    "#code snippets from https://github.com/EnergyModels/temoatools/tree/master/temoatools\n",
    "\n",
    "    df_table = pd.DataFrame(df_table)\n",
    "    \n",
    "    # Set-up sqlite connection\n",
    "    conn = sqlite3.connect(outputdB)\n",
    "    c = conn.cursor()\n",
    "\n",
    "    #----------\n",
    "    # sqlite file prep\n",
    "    #----------\n",
    "\n",
    "    # Create SQL command based on number of entries\n",
    "    command = 'INSERT INTO ' + sqlite_table + ' VALUES (?'\n",
    "    for i in range(len(df_table.columns)-1):\n",
    "        command = command + ',?'\n",
    "    command = command + ')'\n",
    "\n",
    "    # Execute SQL command\n",
    "    try:\n",
    "        c.executemany(command,np.array(df_table))\n",
    "    except:\n",
    "        print(command)\n",
    "        print(np.array(df_table))\n",
    "        c.executemany(command, np.array(df_table))\n",
    "\n",
    "    #----------\n",
    "    # Save(commit) the changes, and close sqlite file\n",
    "    #----------\n",
    "    conn.commit()\n",
    "    conn.close()"
   ]
  },
  {
   "cell_type": "code",
   "execution_count": 5,
   "metadata": {},
   "outputs": [],
   "source": [
    "# Create New SQL File\n",
    "outputdB = 'data_files/temoa_test_system.sqlite'\n",
    "#outputdB = 'data_files/temoa_regional_test_system.sqlite'\n",
    "\n",
    "outputdBold = 'data_files/temoa_test_system_single.sqlite'"
   ]
  },
  {
   "cell_type": "code",
   "execution_count": 6,
   "metadata": {},
   "outputs": [],
   "source": [
    "#get all commands from SQL file\n",
    "fd = open('data_files/temoa_test_system_single.sql', 'r')\n",
    "sqlFile = fd.read()\n",
    "fd.close()\n",
    "\n",
    "# all SQL commands (split on ';')\n",
    "sqlCommands = sqlFile.split(';')"
   ]
  },
  {
   "cell_type": "code",
   "execution_count": 7,
   "metadata": {},
   "outputs": [],
   "source": [
    "#filter CREATE TABLE commands\n",
    "iterval = 0\n",
    "create_sqlCommands=[]\n",
    "for command in sqlCommands:\n",
    "    if 'CREATE TABLE' in command:\n",
    "        command = command.replace('\"region\"','\"regions\"')\n",
    "        create_sqlCommands.append(command)"
   ]
  },
  {
   "cell_type": "code",
   "execution_count": 8,
   "metadata": {},
   "outputs": [],
   "source": [
    "#write to new SQL file\n",
    "fd = open('data_files/temoa_test_system.sql', 'w')\n",
    "sqlFile = fd.write(\";\\n\".join(create_sqlCommands))\n",
    "fd.close()"
   ]
  },
  {
   "cell_type": "code",
   "execution_count": 9,
   "metadata": {},
   "outputs": [
    {
     "data": {
      "text/plain": [
       "0"
      ]
     },
     "execution_count": 9,
     "metadata": {},
     "output_type": "execute_result"
    }
   ],
   "source": [
    "if os.path.isfile(outputdB):\n",
    "    os.remove(outputdB)\n",
    "os.system(\"sqlite3 \" + outputdB + \" < data_files/temoa_test_system.sql\")\n",
    "\n",
    "if os.path.isfile(outputdBold):\n",
    "    os.remove(outputdBold)\n",
    "os.system(\"sqlite3 \" + outputdBold + \" < data_files/temoa_test_system_single.sql\")"
   ]
  },
  {
   "cell_type": "code",
   "execution_count": 10,
   "metadata": {},
   "outputs": [],
   "source": [
    "dict_tables_cols = dict()\n",
    "dict_tables_cols['Efficiency'] = 'efficiency'\n",
    "dict_tables_cols['CapacityToActivity'] = 'c2a'\n",
    "dict_tables_cols['CapacityFactorTech'] = 'cf_tech'\n",
    "dict_tables_cols['CostInvest'] = 'cost_invest'\n",
    "dict_tables_cols['CostFixed'] = 'cost_fixed'\n",
    "dict_tables_cols['CostVariable'] = 'cost_variable'\n",
    "dict_tables_cols['Demand'] = 'demand'\n",
    "dict_tables_cols['DemandSpecificDistribution'] = 'dds'\n",
    "dict_tables_cols['EmissionActivity'] = 'emis_act'\n",
    "dict_tables_cols['ExistingCapacity'] = 'exist_cap'\n",
    "dict_tables_cols['LifetimeLoanTech'] = 'loan'\n",
    "dict_tables_cols['LifetimeTech'] = 'life'\n",
    "dict_tables_cols['MinActivity'] = 'minact'\n",
    "dict_tables_cols['StorageDuration'] = 'duration'\n",
    "dict_tables_cols['TechInputSplit'] = 'ti_split'\n",
    "dict_tables_cols['TechOutputSplit'] = 'to_split'\n",
    "dict_tables_cols['technologies'] = 'tech_category'\n",
    "\n",
    "dict_tables_cols['GlobalDiscountRate'] = 'rate'\n",
    "dict_tables_cols['SegFrac'] = 'segfrac'\n",
    "dict_tables_cols['EmissionLimit'] = 'emis_limit'\n",
    "dict_tables_cols['commodities'] = 'commodities'\n",
    "dict_tables_cols['commodity_labels'] = 'comm_label_desc'\n",
    "dict_tables_cols['sector_labels'] = 'sector_labels'\n",
    "dict_tables_cols['tech_curtailment'] = 'tech_curtailment'\n",
    "dict_tables_cols['technology_labels'] = 'tech_labels'\n",
    "dict_tables_cols['time_of_day'] = 't_day'\n",
    "dict_tables_cols['time_period_labels'] = 't_period_labels'\n",
    "dict_tables_cols['time_periods'] = 't_periods'\n",
    "dict_tables_cols['time_season'] = 't_season'\n",
    "dict_tables_cols['regions'] = 'regions'\n",
    "\n",
    "for key, value in dict_tables_cols.items():\n",
    "    col_changed = value\n",
    "    table_name = key\n",
    "    \n",
    "    conn = sqlite3.connect(outputdBold)\n",
    "    df = read_db_table(table_name, conn)\n",
    "    conn.close()\n",
    "    if value in ['rate', 'segfrac','commodities', 'comm_label_desc', 'sector_labels', 'tech_category',\n",
    "                 'tech_curtailment', 'tech_labels', 't_day', 't_period_labels', 't_periods', 't_season']:\n",
    "        df_o = df.copy()\n",
    "    else:\n",
    "        df1 = df.copy()\n",
    "        df2 = df.copy()\n",
    "        df2.loc[:,'regions'] = 'R2'\n",
    "        if value in ['exist_cap', 'minact']:\n",
    "            df1.loc[:,col_changed]*=0.7\n",
    "            df2.loc[:,col_changed]*=0.3\n",
    "        elif value in ['demand']:\n",
    "            df1.loc[df1.demand_comm=='RH',col_changed]*=0.3\n",
    "            df2.loc[df2.demand_comm=='RH',col_changed]*=0.7\n",
    "            df1.loc[df1.demand_comm=='VMT',col_changed]*=0.7\n",
    "            df2.loc[df2.demand_comm=='VMT',col_changed]*=0.3\n",
    "        elif value in ['emis_limit']:\n",
    "            df1.loc[:,col_changed]*=1\n",
    "            df2.loc[:,col_changed]*=1.5\n",
    "            df2.loc[:,'regions'] = 'global'\n",
    "        elif value in ['efficiency']:\n",
    "            df2.loc[:,col_changed]*=1\n",
    "        elif value not in ['c2a', 'dds', 'loan', 'life', 'duration', 'flag', 'regions', 'emis_act']:\n",
    "            df2.loc[:,col_changed]*=0.8\n",
    "        if value not in ['regions']:\n",
    "            decs = max(df2.loc[:,col_changed].map(str).str.split('.').apply(lambda x: len(x[1])))\n",
    "            df2.loc[:,col_changed] = df2.loc[:,col_changed].round(decs)\n",
    "        df_o = pd.concat([df1, df2])\n",
    "        #if value=='emis_limit':\n",
    "        #    df_o = df1\n",
    "            #df_o.loc[:,'region'] = 'R2'\n",
    "    write_sql(df_o,table_name, outputdB)"
   ]
  },
  {
   "cell_type": "code",
   "execution_count": 11,
   "metadata": {},
   "outputs": [],
   "source": [
    "def add_rows_df(row, df):\n",
    "    srs = pd.Series(row, index = df.columns)\n",
    "    df = df.append(srs, ignore_index=True)\n",
    "    return df"
   ]
  },
  {
   "cell_type": "code",
   "execution_count": 12,
   "metadata": {},
   "outputs": [],
   "source": [
    "#add transmission data\n",
    "for key, value in dict_tables_cols.items():\n",
    "    col_changed = value\n",
    "    table_name = key\n",
    "    if value in ['exist_cap']:\n",
    "        conn = sqlite3.connect(outputdB)\n",
    "        df = read_db_table(table_name, conn)\n",
    "        conn.close()\n",
    "        ind = len(df)\n",
    "        df = add_rows_df(['R1-R2', 'E_TRANS',2015,10,'GW',''],df)\n",
    "        df = add_rows_df(['R2-R1', 'E_TRANS',2015,10,'GW',''],df)\n",
    "        write_sql(df.iloc[ind:],table_name, outputdB)\n",
    "    elif value in ['tech_category']:\n",
    "        conn = sqlite3.connect(outputdB)\n",
    "        df = read_db_table(table_name, conn)\n",
    "        conn.close()\n",
    "        ind = len(df)\n",
    "        df = add_rows_df(['E_TRANS', 'p','electric','electric transmission',''],df)\n",
    "        write_sql(df.iloc[ind:],table_name, outputdB)\n",
    "    elif value in ['cost_variable']:\n",
    "        conn = sqlite3.connect(outputdB)\n",
    "        df = read_db_table(table_name, conn)\n",
    "        conn.close()\n",
    "        ind = len(df)\n",
    "        df = add_rows_df(['R1-R2', '2020','E_TRANS', '2015','0.1','$M/PJ',''],df)\n",
    "        df = add_rows_df(['R1-R2', '2025','E_TRANS', '2015','0.1','$M/PJ',''],df)\n",
    "        df = add_rows_df(['R1-R2', '2030','E_TRANS', '2015','0.1','$M/PJ',''],df)\n",
    "        df = add_rows_df(['R2-R1', '2020','E_TRANS', '2015','0.1','$M/PJ',''],df)\n",
    "        df = add_rows_df(['R2-R1', '2025','E_TRANS', '2015','0.1','$M/PJ',''],df)\n",
    "        df = add_rows_df(['R2-R1', '2030','E_TRANS', '2015','0.1','$M/PJ',''],df)\n",
    "        write_sql(df.iloc[ind:],table_name, outputdB)\n",
    "    if value in ['efficiency']:\n",
    "        conn = sqlite3.connect(outputdB)\n",
    "        df = read_db_table(table_name, conn)\n",
    "        conn.close()\n",
    "        ind = len(df)\n",
    "        df = add_rows_df(['R1-R2','ELC', 'E_TRANS',2015,'ELC',0.9,''],df)\n",
    "        df = add_rows_df(['R2-R1','ELC', 'E_TRANS',2015,'ELC',0.9,''],df)\n",
    "        write_sql(df.iloc[ind:],table_name, outputdB)\n",
    "    if value in ['life']:\n",
    "        conn = sqlite3.connect(outputdB)\n",
    "        df = read_db_table(table_name, conn)\n",
    "        conn.close()\n",
    "        ind = len(df)\n",
    "        df = add_rows_df(['R1-R2', 'E_TRANS',30,''],df)\n",
    "        df = add_rows_df(['R2-R1', 'E_TRANS',30,''],df)\n",
    "        write_sql(df.iloc[ind:],table_name, outputdB)\n",
    "    if value in ['c2a']:\n",
    "        conn = sqlite3.connect(outputdB)\n",
    "        df = read_db_table(table_name, conn)\n",
    "        conn.close()\n",
    "        ind = len(df)\n",
    "        df = add_rows_df(['R1-R2', 'E_TRANS',31.54,''],df)\n",
    "        df = add_rows_df(['R2-R1', 'E_TRANS',31.54,''],df)\n",
    "        write_sql(df.iloc[ind:],table_name, outputdB)\n",
    "\n",
    "#add trans tech to tech_exchange        \n",
    "df = pd.DataFrame(columns = ['tech', 'tech_notes'])\n",
    "df = add_rows_df(['E_TRANS', ''],df)\n",
    "write_sql(df,'tech_exchange', outputdB)\n"
   ]
  },
  {
   "cell_type": "code",
   "execution_count": 13,
   "metadata": {},
   "outputs": [],
   "source": [
    "conn = sqlite3.connect(outputdB)\n",
    "with open(outputdB.replace('ite',''), 'w') as f:\n",
    "    for line in conn.iterdump():\n",
    "        if 'e+' in line or 'e-0' in line:\n",
    "            val = [x for x in line.split(',') if 'e+' in x or 'e-0' in x][0]\n",
    "            ls = line.split(',')\n",
    "            ind = ls.index(val)\n",
    "            ls[ind] = [str(round(float(x),2)) for x in line.split(',') if 'e+' in x or 'e-0' in x ][0]\n",
    "            line = ','.join(ls)\n",
    "        if 'CREATE TABLE' in line:\n",
    "            f.write('\\n' )\n",
    "        f.write('%s\\n' % line)\n",
    "        \n",
    "conn.close()"
   ]
  }
 ],
 "metadata": {
  "kernelspec": {
   "display_name": "Python 3",
   "language": "python",
   "name": "python3"
  },
  "language_info": {
   "codemirror_mode": {
    "name": "ipython",
    "version": 3
   },
   "file_extension": ".py",
   "mimetype": "text/x-python",
   "name": "python",
   "nbconvert_exporter": "python",
   "pygments_lexer": "ipython3",
   "version": "3.7.3"
  }
 },
 "nbformat": 4,
 "nbformat_minor": 4
}
